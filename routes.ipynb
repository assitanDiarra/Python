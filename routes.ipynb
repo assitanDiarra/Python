{
 "cells": [
  {
   "cell_type": "code",
   "execution_count": 1,
   "metadata": {
    "collapsed": true
   },
   "outputs": [],
   "source": [
    "import pandas as pd\n",
    "import numpy as np\n",
    "import matplotlib.pyplot as plt"
   ]
  },
  {
   "cell_type": "markdown",
   "metadata": {},
   "source": [
    "# Partie 1 : Chargement et nettoyage"
   ]
  },
  {
   "cell_type": "code",
   "execution_count": 2,
   "metadata": {
    "collapsed": false
   },
   "outputs": [],
   "source": [
    "route_csv=pd.read_table('C:/Users/DIARRA née CISSE Bal/Downloads/CGDRSGDRDTRoutesdernierstravaux.csv',sep=';',decimal=',')"
   ]
  },
  {
   "cell_type": "code",
   "execution_count": 3,
   "metadata": {
    "collapsed": false
   },
   "outputs": [
    {
     "data": {
      "text/plain": [
       "pandas.core.frame.DataFrame"
      ]
     },
     "execution_count": 3,
     "metadata": {},
     "output_type": "execute_result"
    }
   ],
   "source": [
    "type(route_csv)"
   ]
  },
  {
   "cell_type": "code",
   "execution_count": 4,
   "metadata": {
    "collapsed": false
   },
   "outputs": [
    {
     "data": {
      "text/html": [
       "<div>\n",
       "<table border=\"1\" class=\"dataframe\">\n",
       "  <thead>\n",
       "    <tr style=\"text-align: right;\">\n",
       "      <th></th>\n",
       "      <th>entityid</th>\n",
       "      <th>route</th>\n",
       "      <th>rub</th>\n",
       "      <th>age</th>\n",
       "      <th>mois</th>\n",
       "      <th>annee</th>\n",
       "      <th>prd</th>\n",
       "      <th>abd</th>\n",
       "      <th>prf</th>\n",
       "      <th>abf</th>\n",
       "      <th>cumuld</th>\n",
       "      <th>cumulf</th>\n",
       "      <th>long</th>\n",
       "      <th>epaisseurdernierstravaux</th>\n",
       "      <th>anneedernierstravaux</th>\n",
       "      <th>naturedernierstravaux</th>\n",
       "      <th>supportdernierstravaux</th>\n",
       "    </tr>\n",
       "  </thead>\n",
       "  <tbody>\n",
       "    <tr>\n",
       "      <th>0</th>\n",
       "      <td>000efbb3-e7c1-4b9c-a54e-1e0d6d81988a</td>\n",
       "      <td>76 D0131</td>\n",
       "      <td>20</td>\n",
       "      <td>0</td>\n",
       "      <td>7</td>\n",
       "      <td>7</td>\n",
       "      <td>0</td>\n",
       "      <td>490</td>\n",
       "      <td>3</td>\n",
       "      <td>200</td>\n",
       "      <td>490</td>\n",
       "      <td>3205</td>\n",
       "      <td>2715</td>\n",
       "      <td>1.5</td>\n",
       "      <td>2012</td>\n",
       "      <td>ES-BC</td>\n",
       "      <td>COUL</td>\n",
       "    </tr>\n",
       "    <tr>\n",
       "      <th>1</th>\n",
       "      <td>0011b2a4-5a64-4223-a856-6c9e8b6b2b48</td>\n",
       "      <td>76 D0293</td>\n",
       "      <td>20</td>\n",
       "      <td>0</td>\n",
       "      <td>7</td>\n",
       "      <td>7</td>\n",
       "      <td>6</td>\n",
       "      <td>724</td>\n",
       "      <td>6</td>\n",
       "      <td>940</td>\n",
       "      <td>6737</td>\n",
       "      <td>6953</td>\n",
       "      <td>216</td>\n",
       "      <td>1.0</td>\n",
       "      <td>2002</td>\n",
       "      <td>COUL</td>\n",
       "      <td>ES</td>\n",
       "    </tr>\n",
       "    <tr>\n",
       "      <th>2</th>\n",
       "      <td>0011d99f-9091-4be4-a16c-354f23b24004</td>\n",
       "      <td>76 D0003</td>\n",
       "      <td>20</td>\n",
       "      <td>0</td>\n",
       "      <td>7</td>\n",
       "      <td>7</td>\n",
       "      <td>51</td>\n",
       "      <td>708</td>\n",
       "      <td>51</td>\n",
       "      <td>810</td>\n",
       "      <td>50762</td>\n",
       "      <td>50864</td>\n",
       "      <td>102</td>\n",
       "      <td>1.0</td>\n",
       "      <td>1991</td>\n",
       "      <td>ES</td>\n",
       "      <td>AC</td>\n",
       "    </tr>\n",
       "    <tr>\n",
       "      <th>3</th>\n",
       "      <td>00155332-804f-4547-8537-0897d7e479e1</td>\n",
       "      <td>76 D0915</td>\n",
       "      <td>20</td>\n",
       "      <td>0</td>\n",
       "      <td>11</td>\n",
       "      <td>9</td>\n",
       "      <td>61</td>\n",
       "      <td>800</td>\n",
       "      <td>62</td>\n",
       "      <td>711</td>\n",
       "      <td>61177</td>\n",
       "      <td>62116</td>\n",
       "      <td>939</td>\n",
       "      <td>2.0</td>\n",
       "      <td>2000</td>\n",
       "      <td>BBUM</td>\n",
       "      <td>COUL</td>\n",
       "    </tr>\n",
       "    <tr>\n",
       "      <th>4</th>\n",
       "      <td>0016e2d9-78bb-4092-b846-90452703009a</td>\n",
       "      <td>76 D0022</td>\n",
       "      <td>20</td>\n",
       "      <td>0</td>\n",
       "      <td>7</td>\n",
       "      <td>7</td>\n",
       "      <td>86</td>\n",
       "      <td>26</td>\n",
       "      <td>86</td>\n",
       "      <td>650</td>\n",
       "      <td>86141</td>\n",
       "      <td>86765</td>\n",
       "      <td>624</td>\n",
       "      <td>1.0</td>\n",
       "      <td>2006</td>\n",
       "      <td>COUL</td>\n",
       "      <td>BB</td>\n",
       "    </tr>\n",
       "  </tbody>\n",
       "</table>\n",
       "</div>"
      ],
      "text/plain": [
       "                               entityid     route  rub  age  mois  annee  prd  \\\n",
       "0  000efbb3-e7c1-4b9c-a54e-1e0d6d81988a  76 D0131   20    0     7      7    0   \n",
       "1  0011b2a4-5a64-4223-a856-6c9e8b6b2b48  76 D0293   20    0     7      7    6   \n",
       "2  0011d99f-9091-4be4-a16c-354f23b24004  76 D0003   20    0     7      7   51   \n",
       "3  00155332-804f-4547-8537-0897d7e479e1  76 D0915   20    0    11      9   61   \n",
       "4  0016e2d9-78bb-4092-b846-90452703009a  76 D0022   20    0     7      7   86   \n",
       "\n",
       "   abd  prf  abf  cumuld  cumulf  long  epaisseurdernierstravaux  \\\n",
       "0  490    3  200     490    3205  2715                       1.5   \n",
       "1  724    6  940    6737    6953   216                       1.0   \n",
       "2  708   51  810   50762   50864   102                       1.0   \n",
       "3  800   62  711   61177   62116   939                       2.0   \n",
       "4   26   86  650   86141   86765   624                       1.0   \n",
       "\n",
       "   anneedernierstravaux naturedernierstravaux supportdernierstravaux  \n",
       "0                  2012                 ES-BC                   COUL  \n",
       "1                  2002                  COUL                     ES  \n",
       "2                  1991                    ES                     AC  \n",
       "3                  2000                  BBUM                   COUL  \n",
       "4                  2006                  COUL                     BB  "
      ]
     },
     "execution_count": 4,
     "metadata": {},
     "output_type": "execute_result"
    }
   ],
   "source": [
    "route_csv.head()"
   ]
  },
  {
   "cell_type": "code",
   "execution_count": 5,
   "metadata": {
    "collapsed": false
   },
   "outputs": [
    {
     "data": {
      "text/plain": [
       "entityid                     object\n",
       "route                        object\n",
       "rub                           int64\n",
       "age                           int64\n",
       "mois                          int64\n",
       "annee                         int64\n",
       "prd                           int64\n",
       "abd                           int64\n",
       "prf                           int64\n",
       "abf                           int64\n",
       "cumuld                        int64\n",
       "cumulf                        int64\n",
       "long                          int64\n",
       "epaisseurdernierstravaux    float64\n",
       "anneedernierstravaux          int64\n",
       "naturedernierstravaux        object\n",
       "supportdernierstravaux       object\n",
       "dtype: object"
      ]
     },
     "execution_count": 5,
     "metadata": {},
     "output_type": "execute_result"
    }
   ],
   "source": [
    "route_csv.dtypes"
   ]
  },
  {
   "cell_type": "code",
   "execution_count": 6,
   "metadata": {
    "collapsed": false
   },
   "outputs": [
    {
     "data": {
      "text/html": [
       "<div>\n",
       "<table border=\"1\" class=\"dataframe\">\n",
       "  <thead>\n",
       "    <tr style=\"text-align: right;\">\n",
       "      <th></th>\n",
       "      <th>entityid</th>\n",
       "      <th>route</th>\n",
       "      <th>rub</th>\n",
       "      <th>age</th>\n",
       "      <th>mois</th>\n",
       "      <th>annee</th>\n",
       "      <th>prd</th>\n",
       "      <th>abd</th>\n",
       "      <th>prf</th>\n",
       "      <th>abf</th>\n",
       "      <th>cumuld</th>\n",
       "      <th>cumulf</th>\n",
       "      <th>long</th>\n",
       "      <th>epaisseurdernierstravaux</th>\n",
       "      <th>anneedernierstravaux</th>\n",
       "      <th>naturedernierstravaux</th>\n",
       "      <th>supportdernierstravaux</th>\n",
       "    </tr>\n",
       "  </thead>\n",
       "  <tbody>\n",
       "    <tr>\n",
       "      <th>0</th>\n",
       "      <td>000efbb3-e7c1-4b9c-a54e-1e0d6d81988a</td>\n",
       "      <td>76 D0131</td>\n",
       "      <td>20</td>\n",
       "      <td>0</td>\n",
       "      <td>7</td>\n",
       "      <td>7</td>\n",
       "      <td>0</td>\n",
       "      <td>490</td>\n",
       "      <td>3</td>\n",
       "      <td>200</td>\n",
       "      <td>490</td>\n",
       "      <td>3205</td>\n",
       "      <td>2715</td>\n",
       "      <td>1.5</td>\n",
       "      <td>2012</td>\n",
       "      <td>ES-BC</td>\n",
       "      <td>COUL</td>\n",
       "    </tr>\n",
       "    <tr>\n",
       "      <th>1</th>\n",
       "      <td>0011b2a4-5a64-4223-a856-6c9e8b6b2b48</td>\n",
       "      <td>76 D0293</td>\n",
       "      <td>20</td>\n",
       "      <td>0</td>\n",
       "      <td>7</td>\n",
       "      <td>7</td>\n",
       "      <td>6</td>\n",
       "      <td>724</td>\n",
       "      <td>6</td>\n",
       "      <td>940</td>\n",
       "      <td>6737</td>\n",
       "      <td>6953</td>\n",
       "      <td>216</td>\n",
       "      <td>1.0</td>\n",
       "      <td>2002</td>\n",
       "      <td>COUL</td>\n",
       "      <td>ES</td>\n",
       "    </tr>\n",
       "    <tr>\n",
       "      <th>2</th>\n",
       "      <td>0011d99f-9091-4be4-a16c-354f23b24004</td>\n",
       "      <td>76 D0003</td>\n",
       "      <td>20</td>\n",
       "      <td>0</td>\n",
       "      <td>7</td>\n",
       "      <td>7</td>\n",
       "      <td>51</td>\n",
       "      <td>708</td>\n",
       "      <td>51</td>\n",
       "      <td>810</td>\n",
       "      <td>50762</td>\n",
       "      <td>50864</td>\n",
       "      <td>102</td>\n",
       "      <td>1.0</td>\n",
       "      <td>1991</td>\n",
       "      <td>ES</td>\n",
       "      <td>AC</td>\n",
       "    </tr>\n",
       "    <tr>\n",
       "      <th>3</th>\n",
       "      <td>00155332-804f-4547-8537-0897d7e479e1</td>\n",
       "      <td>76 D0915</td>\n",
       "      <td>20</td>\n",
       "      <td>0</td>\n",
       "      <td>11</td>\n",
       "      <td>9</td>\n",
       "      <td>61</td>\n",
       "      <td>800</td>\n",
       "      <td>62</td>\n",
       "      <td>711</td>\n",
       "      <td>61177</td>\n",
       "      <td>62116</td>\n",
       "      <td>939</td>\n",
       "      <td>2.0</td>\n",
       "      <td>2000</td>\n",
       "      <td>BBUM</td>\n",
       "      <td>COUL</td>\n",
       "    </tr>\n",
       "    <tr>\n",
       "      <th>4</th>\n",
       "      <td>0016e2d9-78bb-4092-b846-90452703009a</td>\n",
       "      <td>76 D0022</td>\n",
       "      <td>20</td>\n",
       "      <td>0</td>\n",
       "      <td>7</td>\n",
       "      <td>7</td>\n",
       "      <td>86</td>\n",
       "      <td>26</td>\n",
       "      <td>86</td>\n",
       "      <td>650</td>\n",
       "      <td>86141</td>\n",
       "      <td>86765</td>\n",
       "      <td>624</td>\n",
       "      <td>1.0</td>\n",
       "      <td>2006</td>\n",
       "      <td>COUL</td>\n",
       "      <td>BB</td>\n",
       "    </tr>\n",
       "  </tbody>\n",
       "</table>\n",
       "</div>"
      ],
      "text/plain": [
       "                               entityid     route  rub  age  mois  annee  prd  \\\n",
       "0  000efbb3-e7c1-4b9c-a54e-1e0d6d81988a  76 D0131   20    0     7      7    0   \n",
       "1  0011b2a4-5a64-4223-a856-6c9e8b6b2b48  76 D0293   20    0     7      7    6   \n",
       "2  0011d99f-9091-4be4-a16c-354f23b24004  76 D0003   20    0     7      7   51   \n",
       "3  00155332-804f-4547-8537-0897d7e479e1  76 D0915   20    0    11      9   61   \n",
       "4  0016e2d9-78bb-4092-b846-90452703009a  76 D0022   20    0     7      7   86   \n",
       "\n",
       "   abd  prf  abf  cumuld  cumulf  long  epaisseurdernierstravaux  \\\n",
       "0  490    3  200     490    3205  2715                       1.5   \n",
       "1  724    6  940    6737    6953   216                       1.0   \n",
       "2  708   51  810   50762   50864   102                       1.0   \n",
       "3  800   62  711   61177   62116   939                       2.0   \n",
       "4   26   86  650   86141   86765   624                       1.0   \n",
       "\n",
       "   anneedernierstravaux naturedernierstravaux supportdernierstravaux  \n",
       "0                  2012                 ES-BC                   COUL  \n",
       "1                  2002                  COUL                     ES  \n",
       "2                  1991                    ES                     AC  \n",
       "3                  2000                  BBUM                   COUL  \n",
       "4                  2006                  COUL                     BB  "
      ]
     },
     "execution_count": 6,
     "metadata": {},
     "output_type": "execute_result"
    }
   ],
   "source": [
    "#Le nettoyage deu dataframe\n",
    "#Je considere qu'une valeur d'epaisseur derniers travaux est aberente quand elle est supérieur à 999.\n",
    "new_route_csv=route_csv[route_csv['epaisseurdernierstravaux']<=999]\n",
    "new_route_csv.head()"
   ]
  },
  {
   "cell_type": "markdown",
   "metadata": {},
   "source": [
    "# Partie 2 : Analyse"
   ]
  },
  {
   "cell_type": "code",
   "execution_count": 7,
   "metadata": {
    "collapsed": false
   },
   "outputs": [
    {
     "data": {
      "text/plain": [
       "naturedernierstravaux\n",
       "BB        1189\n",
       "BB+BBM       2\n",
       "BB-REP     178\n",
       "BB-RPR       1\n",
       "BBAUT        1\n",
       "BBCOL        2\n",
       "BBEDC        1\n",
       "BBELA        7\n",
       "BBELAS       2\n",
       "BBM        179\n",
       "BBME        24\n",
       "BBMF         1\n",
       "BBMM         4\n",
       "BBMP        26\n",
       "BBSG       316\n",
       "BBSGM        3\n",
       "BBSGP       19\n",
       "BBSP       239\n",
       "BBTM       340\n",
       "BBTMM       13\n",
       "BBTMP        4\n",
       "BBUM       348\n",
       "BETOFL       2\n",
       "BETOFX       9\n",
       "COUL       994\n",
       "COUL-S       3\n",
       "ECF          2\n",
       "ECF-BC     140\n",
       "ECF-MC     136\n",
       "ES         864\n",
       "ES-BC      198\n",
       "ES-MC      131\n",
       "ES-SP        2\n",
       "ESDG         5\n",
       "ESDGSP       5\n",
       "ESLG         1\n",
       "ESLGg       29\n",
       "ESSP         6\n",
       "I            1\n",
       "PAVES        8\n",
       "Name: entityid, dtype: int64"
      ]
     },
     "execution_count": 7,
     "metadata": {},
     "output_type": "execute_result"
    }
   ],
   "source": [
    "route=new_route_csv.groupby('naturedernierstravaux').entityid.count()\n",
    "#['entityid']\n",
    "route"
   ]
  },
  {
   "cell_type": "code",
   "execution_count": 8,
   "metadata": {
    "collapsed": false
   },
   "outputs": [
    {
     "data": {
      "text/plain": [
       "naturedernierstravaux\n",
       "BB      1189\n",
       "COUL     994\n",
       "ES       864\n",
       "BBUM     348\n",
       "BBTM     340\n",
       "Name: entityid, dtype: int64"
      ]
     },
     "execution_count": 8,
     "metadata": {},
     "output_type": "execute_result"
    }
   ],
   "source": [
    "road=route.sort_values(ascending=False)\n",
    "road.head(5)"
   ]
  },
  {
   "cell_type": "code",
   "execution_count": 9,
   "metadata": {
    "collapsed": false
   },
   "outputs": [],
   "source": [
    "nb_travaux_par_annee=new_route_csv.groupby('anneedernierstravaux').entityid.count()\n"
   ]
  },
  {
   "cell_type": "code",
   "execution_count": 31,
   "metadata": {
    "collapsed": false
   },
   "outputs": [
    {
     "data": {
      "text/plain": [
       "anneedernierstravaux\n",
       "1900      24.0\n",
       "1945      20.0\n",
       "1950       0.0\n",
       "1952      20.0\n",
       "1974       6.0\n",
       "1975      16.0\n",
       "1977       4.0\n",
       "1980       0.0\n",
       "1981      52.0\n",
       "1982      12.0\n",
       "1983      40.0\n",
       "1984      42.0\n",
       "1985      30.0\n",
       "1986      43.6\n",
       "1987      58.0\n",
       "1988      27.0\n",
       "1989     111.0\n",
       "1990     149.0\n",
       "1991     102.0\n",
       "1992     110.0\n",
       "1993     144.7\n",
       "1994     250.0\n",
       "1995     230.5\n",
       "1996     320.5\n",
       "1997     400.7\n",
       "1998     803.6\n",
       "1999     744.6\n",
       "2000     826.0\n",
       "2001    1022.1\n",
       "2002    1170.5\n",
       "2003     573.5\n",
       "2004     726.8\n",
       "2005    1101.9\n",
       "2006    1204.5\n",
       "2007    1064.3\n",
       "2008     669.6\n",
       "2009     511.3\n",
       "2010     257.4\n",
       "2011     475.8\n",
       "2012     503.1\n",
       "2013     369.4\n",
       "2014     539.3\n",
       "Name: epaisseurdernierstravaux, dtype: float64"
      ]
     },
     "execution_count": 31,
     "metadata": {},
     "output_type": "execute_result"
    }
   ],
   "source": [
    "total_epaisseur_par_annee=new_route_csv.groupby('anneedernierstravaux').epaisseurdernierstravaux.sum()\n",
    "total_epaisseur_par_annee"
   ]
  },
  {
   "cell_type": "code",
   "execution_count": 11,
   "metadata": {
    "collapsed": false
   },
   "outputs": [
    {
     "data": {
      "text/plain": [
       "anneedernierstravaux\n",
       "1945    10.000000\n",
       "1952    10.000000\n",
       "1900     6.000000\n",
       "1984     6.000000\n",
       "1974     6.000000\n",
       "1982     6.000000\n",
       "1988     5.400000\n",
       "1975     5.333333\n",
       "1981     5.200000\n",
       "1983     4.444444\n",
       "1985     4.285714\n",
       "1977     4.000000\n",
       "1992     3.793103\n",
       "1989     3.700000\n",
       "1987     3.625000\n",
       "1998     3.362343\n",
       "1986     3.353846\n",
       "1994     3.289474\n",
       "1990     3.170213\n",
       "1996     3.142157\n",
       "1995     3.114865\n",
       "1991     3.090909\n",
       "1993     3.078723\n",
       "2010     3.028235\n",
       "2004     2.806178\n",
       "2002     2.773697\n",
       "1999     2.757778\n",
       "2001     2.711141\n",
       "2005     2.707371\n",
       "2009     2.663021\n",
       "2000     2.613924\n",
       "2013     2.601408\n",
       "2008     2.555725\n",
       "1997     2.552229\n",
       "2007     2.546172\n",
       "2006     2.541139\n",
       "2014     2.520093\n",
       "2011     2.390955\n",
       "2012     2.373113\n",
       "2003     2.139925\n",
       "1980     0.000000\n",
       "1950     0.000000\n",
       "dtype: float64"
      ]
     },
     "execution_count": 11,
     "metadata": {},
     "output_type": "execute_result"
    }
   ],
   "source": [
    "epaisseur_moyenne_par_annee=total_epaisseur_par_annee/nb_travaux_par_annee\n",
    "epaisseur_moyenne_par_annee.sort_values(ascending=False)"
   ]
  },
  {
   "cell_type": "code",
   "execution_count": 20,
   "metadata": {
    "collapsed": false
   },
   "outputs": [
    {
     "data": {
      "text/plain": [
       "range(0, 40)"
      ]
     },
     "execution_count": 20,
     "metadata": {},
     "output_type": "execute_result"
    }
   ],
   "source": [
    "data=new_route_csv.groupby('naturedernierstravaux').count()\n",
    "data.loc[:,'entityid'].size\n",
    "##new_route_csv.\n",
    "x= range(39)\n",
    "x"
   ]
  },
  {
   "cell_type": "code",
   "execution_count": 23,
   "metadata": {
    "collapsed": false
   },
   "outputs": [
    {
     "data": {
      "image/png": "[encoded data removed]",
      "text/plain": [
       "<matplotlib.figure.Figure at 0xb1cef296a0>"
      ]
     },
     "metadata": {},
     "output_type": "display_data"
    }
   ],
   "source": [
    "import matplotlib.pyplot as plt\n",
    "x=range(40)\n",
    "height= data.loc[:,'entityid']\n",
    "width=1\n",
    "plt.bar(x, height, width, color='y' )\n",
    "plt.show()"
   ]
  },
  {
   "cell_type": "code",
   "execution_count": 38,
   "metadata": {
    "collapsed": false
   },
   "outputs": [
    {
     "data": {
      "image/png": "[encoded data removed]",
      "text/plain": [
       "<matplotlib.figure.Figure at 0xb1d0b7e978>"
      ]
     },
     "metadata": {},
     "output_type": "display_data"
    }
   ],
   "source": [
    "x=range(42)\n",
    "height= epaisseur_moyenne_par_annee\n",
    "width=1\n",
    "plt.bar(x, height, width, color='g' )\n",
    "plt.show()"
   ]
  },
  {
   "cell_type": "code",
   "execution_count": 41,
   "metadata": {
    "collapsed": false
   },
   "outputs": [
    {
     "data": {
      "image/png": "[encoded data removed]",
      "text/plain": [
       "<matplotlib.figure.Figure at 0xb1d0e04ba8>"
      ]
     },
     "metadata": {},
     "output_type": "display_data"
    }
   ],
   "source": [
    "x=range(42)\n",
    "height= total_epaisseur_par_annee\n",
    "width=1\n",
    "plt.bar(x, height, width, color='g' )\n",
    "plt.show()"
   ]
  },
  {
   "cell_type": "code",
   "execution_count": null,
   "metadata": {
    "collapsed": true
   },
   "outputs": [],
   "source": []
  }
 ],
 "metadata": {
  "anaconda-cloud": {},
  "kernelspec": {
   "display_name": "Python [default]",
   "language": "python",
   "name": "python3"
  },
  "language_info": {
   "codemirror_mode": {
    "name": "ipython",
    "version": 3
   },
   "file_extension": ".py",
   "mimetype": "text/x-python",
   "name": "python",
   "nbconvert_exporter": "python",
   "pygments_lexer": "ipython3",
   "version": "3.5.2"
  }
 },
 "nbformat": 4,
 "nbformat_minor": 1
}
