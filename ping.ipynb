{
 "cells": [
  {
   "cell_type": "code",
   "execution_count": 2,
   "metadata": {
    "collapsed": true
   },
   "outputs": [],
   "source": [
    "import pandas as pd\n",
    "import numpy as np\n",
    "import matplotlib.pyplot as plt"
   ]
  },
  {
   "cell_type": "code",
   "execution_count": 3,
   "metadata": {
    "collapsed": false,
    "scrolled": true
   },
   "outputs": [
    {
     "data": {
      "text/plain": [
       "BDTN                              Big Data\n",
       "ISYMED                  ISystèmes Médicaux\n",
       "ISE                      Systeme Embarqués\n",
       "ICOM                      Telecomunication\n",
       "ESA                                    ESA\n",
       "ISN                      Systeme Numerique\n",
       "IAIR                     Affaire et reseau\n",
       "ASR                     Reseau et securité\n",
       "IF                                 Finance\n",
       "ARI            Génie électrique et énergie\n",
       "EDD       Énergie et Développement Durable\n",
       "GET          Génie Électrique et Transport\n",
       "IADES      Distribution Énergie et Signaux\n",
       "dtype: object"
      ]
     },
     "execution_count": 3,
     "metadata": {},
     "output_type": "execute_result"
    }
   ],
   "source": [
    "#Créez une série dont, pour chaque ligne :l’index est un code pour chaque dominante de l’Esigelec la valeur est le nom complet de la dominante\n",
    "ping= pd.Series(['Big Data','ISystèmes Médicaux','Systeme Embarqués','Telecomunication','ESA','Systeme Numerique','Affaire et reseau','Reseau et securité','Finance','Génie électrique et énergie','Énergie et Développement Durable','Génie Électrique et Transport','Distribution Énergie et Signaux'],index=['BDTN','ISYMED','ISE','ICOM','ESA','ISN','IAIR','ASR','IF','ARI','EDD','GET','IADES'])\n",
    "ping"
   ]
  },
  {
   "cell_type": "code",
   "execution_count": 4,
   "metadata": {
    "collapsed": false
   },
   "outputs": [
    {
     "data": {
      "text/plain": [
       "BDTN      TIC\n",
       "ISYMED    SEI\n",
       "ISE       SEI\n",
       "ICOM       ET\n",
       "ESA        ET\n",
       "ISN       TIC\n",
       "IAIR      TIC\n",
       "ASR       TIC\n",
       "IF        TIC\n",
       "ARI       GEE\n",
       "EDD       GEE\n",
       "GET       GEE\n",
       "IADES     GEE\n",
       "dtype: object"
      ]
     },
     "execution_count": 4,
     "metadata": {},
     "output_type": "execute_result"
    }
   ],
   "source": [
    "#joutez une colonne avec le département auquel chaque dominante appartienT\n",
    "dept = pd.Series(['TIC','SEI','SEI','ET','ET','TIC','TIC','TIC','TIC','GEE','GEE','GEE','GEE'],index=['BDTN','ISYMED','ISE','ICOM','ESA','ISN','IAIR','ASR','IF','ARI','EDD','GET','IADES'])\n",
    "##dept_frame=pd.DataFrame(dept)\n",
    "##dept_frame\n",
    "dept"
   ]
  },
  {
   "cell_type": "code",
   "execution_count": 5,
   "metadata": {
    "collapsed": false
   },
   "outputs": [
    {
     "data": {
      "text/html": [
       "<div>\n",
       "<table border=\"1\" class=\"dataframe\">\n",
       "  <thead>\n",
       "    <tr style=\"text-align: right;\">\n",
       "      <th></th>\n",
       "      <th>Departements</th>\n",
       "      <th>Dominantes</th>\n",
       "    </tr>\n",
       "  </thead>\n",
       "  <tbody>\n",
       "    <tr>\n",
       "      <th>BDTN</th>\n",
       "      <td>TIC</td>\n",
       "      <td>Big Data</td>\n",
       "    </tr>\n",
       "    <tr>\n",
       "      <th>ISYMED</th>\n",
       "      <td>SEI</td>\n",
       "      <td>ISystèmes Médicaux</td>\n",
       "    </tr>\n",
       "    <tr>\n",
       "      <th>ISE</th>\n",
       "      <td>SEI</td>\n",
       "      <td>Systeme Embarqués</td>\n",
       "    </tr>\n",
       "    <tr>\n",
       "      <th>ICOM</th>\n",
       "      <td>ET</td>\n",
       "      <td>Telecomunication</td>\n",
       "    </tr>\n",
       "    <tr>\n",
       "      <th>ESA</th>\n",
       "      <td>ET</td>\n",
       "      <td>ESA</td>\n",
       "    </tr>\n",
       "    <tr>\n",
       "      <th>ISN</th>\n",
       "      <td>TIC</td>\n",
       "      <td>Systeme Numerique</td>\n",
       "    </tr>\n",
       "    <tr>\n",
       "      <th>IAIR</th>\n",
       "      <td>TIC</td>\n",
       "      <td>Affaire et reseau</td>\n",
       "    </tr>\n",
       "    <tr>\n",
       "      <th>ASR</th>\n",
       "      <td>TIC</td>\n",
       "      <td>Reseau et securité</td>\n",
       "    </tr>\n",
       "    <tr>\n",
       "      <th>IF</th>\n",
       "      <td>TIC</td>\n",
       "      <td>Finance</td>\n",
       "    </tr>\n",
       "    <tr>\n",
       "      <th>ARI</th>\n",
       "      <td>GEE</td>\n",
       "      <td>Génie électrique et énergie</td>\n",
       "    </tr>\n",
       "    <tr>\n",
       "      <th>EDD</th>\n",
       "      <td>GEE</td>\n",
       "      <td>Énergie et Développement Durable</td>\n",
       "    </tr>\n",
       "    <tr>\n",
       "      <th>GET</th>\n",
       "      <td>GEE</td>\n",
       "      <td>Génie Électrique et Transport</td>\n",
       "    </tr>\n",
       "    <tr>\n",
       "      <th>IADES</th>\n",
       "      <td>GEE</td>\n",
       "      <td>Distribution Énergie et Signaux</td>\n",
       "    </tr>\n",
       "  </tbody>\n",
       "</table>\n",
       "</div>"
      ],
      "text/plain": [
       "       Departements                        Dominantes\n",
       "BDTN            TIC                          Big Data\n",
       "ISYMED          SEI                ISystèmes Médicaux\n",
       "ISE             SEI                 Systeme Embarqués\n",
       "ICOM             ET                  Telecomunication\n",
       "ESA              ET                               ESA\n",
       "ISN             TIC                 Systeme Numerique\n",
       "IAIR            TIC                 Affaire et reseau\n",
       "ASR             TIC                Reseau et securité\n",
       "IF              TIC                           Finance\n",
       "ARI             GEE       Génie électrique et énergie\n",
       "EDD             GEE  Énergie et Développement Durable\n",
       "GET             GEE     Génie Électrique et Transport\n",
       "IADES           GEE   Distribution Énergie et Signaux"
      ]
     },
     "execution_count": 5,
     "metadata": {},
     "output_type": "execute_result"
    }
   ],
   "source": [
    "ping_frame= pd.DataFrame({'Dominantes':ping,'Departements':dept})\n",
    "ping_frame"
   ]
  },
  {
   "cell_type": "code",
   "execution_count": 6,
   "metadata": {
    "collapsed": false
   },
   "outputs": [
    {
     "data": {
      "text/html": [
       "<div>\n",
       "<table border=\"1\" class=\"dataframe\">\n",
       "  <thead>\n",
       "    <tr style=\"text-align: right;\">\n",
       "      <th></th>\n",
       "      <th>Dominante</th>\n",
       "      <th>Nom</th>\n",
       "      <th>Prenom</th>\n",
       "    </tr>\n",
       "  </thead>\n",
       "  <tbody>\n",
       "    <tr>\n",
       "      <th>0</th>\n",
       "      <td>ISE</td>\n",
       "      <td>Lardeur</td>\n",
       "      <td>Florian</td>\n",
       "    </tr>\n",
       "    <tr>\n",
       "      <th>1</th>\n",
       "      <td>IAIR</td>\n",
       "      <td>Lemagnan</td>\n",
       "      <td>Jeremy</td>\n",
       "    </tr>\n",
       "    <tr>\n",
       "      <th>2</th>\n",
       "      <td>ISE</td>\n",
       "      <td>Ndiaye</td>\n",
       "      <td>Rose</td>\n",
       "    </tr>\n",
       "    <tr>\n",
       "      <th>3</th>\n",
       "      <td>BDTN</td>\n",
       "      <td>Serghini</td>\n",
       "      <td>Sara</td>\n",
       "    </tr>\n",
       "    <tr>\n",
       "      <th>4</th>\n",
       "      <td>ISE</td>\n",
       "      <td>Nitcheu</td>\n",
       "      <td>Boris</td>\n",
       "    </tr>\n",
       "  </tbody>\n",
       "</table>\n",
       "</div>"
      ],
      "text/plain": [
       "  Dominante       Nom   Prenom\n",
       "0       ISE   Lardeur  Florian\n",
       "1      IAIR  Lemagnan   Jeremy\n",
       "2       ISE    Ndiaye     Rose\n",
       "3      BDTN  Serghini     Sara\n",
       "4       ISE   Nitcheu    Boris"
      ]
     },
     "execution_count": 6,
     "metadata": {},
     "output_type": "execute_result"
    }
   ],
   "source": [
    "#Créez une dataframe contenant le nom, prénom et code de dominante pour chaque membre de votre PING\n",
    "membre_ping=pd.DataFrame({'Nom':['Lardeur','Lemagnan','Ndiaye','Serghini','Nitcheu'],\n",
    "                          'Prenom':['Florian','Jeremy','Rose','Sara','Boris'],\n",
    "                          'Dominante':['ISE','IAIR','ISE','BDTN','ISE']})\n",
    "membre_ping"
   ]
  },
  {
   "cell_type": "code",
   "execution_count": 7,
   "metadata": {
    "collapsed": false
   },
   "outputs": [
    {
     "data": {
      "text/html": [
       "<div>\n",
       "<table border=\"1\" class=\"dataframe\">\n",
       "  <thead>\n",
       "    <tr style=\"text-align: right;\">\n",
       "      <th></th>\n",
       "      <th>% PING</th>\n",
       "      <th>Departement</th>\n",
       "    </tr>\n",
       "  </thead>\n",
       "  <tbody>\n",
       "    <tr>\n",
       "      <th>0</th>\n",
       "      <td>60</td>\n",
       "      <td>TIC</td>\n",
       "    </tr>\n",
       "    <tr>\n",
       "      <th>1</th>\n",
       "      <td>40</td>\n",
       "      <td>SEI</td>\n",
       "    </tr>\n",
       "    <tr>\n",
       "      <th>2</th>\n",
       "      <td>0</td>\n",
       "      <td>ET</td>\n",
       "    </tr>\n",
       "    <tr>\n",
       "      <th>3</th>\n",
       "      <td>0</td>\n",
       "      <td>GEE</td>\n",
       "    </tr>\n",
       "  </tbody>\n",
       "</table>\n",
       "</div>"
      ],
      "text/plain": [
       "   % PING Departement\n",
       "0      60         TIC\n",
       "1      40         SEI\n",
       "2       0          ET\n",
       "3       0         GEE"
      ]
     },
     "execution_count": 7,
     "metadata": {},
     "output_type": "execute_result"
    }
   ],
   "source": [
    "#Créez une dataframe contenant le pourcentage d’élèves par département pour votre PING\n",
    "a=pd.DataFrame({'% PING':[60,40,0,0],'Departement':['TIC','SEI','ET','GEE']})\n",
    "a\n"
   ]
  },
  {
   "cell_type": "code",
   "execution_count": 13,
   "metadata": {
    "collapsed": false
   },
   "outputs": [
    {
     "data": {
      "text/plain": [
       "',% PING,Departement\\n0,60,TIC\\n1,40,SEI\\n2,0,ET\\n3,0,GEE\\n'"
      ]
     },
     "execution_count": 13,
     "metadata": {},
     "output_type": "execute_result"
    }
   ],
   "source": [
    "#Enregistrez le résultat dans un fichier csv\n",
    "a.to_csv()"
   ]
  },
  {
   "cell_type": "code",
   "execution_count": null,
   "metadata": {
    "collapsed": true
   },
   "outputs": [],
   "source": []
  }
 ],
 "metadata": {
  "anaconda-cloud": {},
  "kernelspec": {
   "display_name": "Python [default]",
   "language": "python",
   "name": "python3"
  },
  "language_info": {
   "codemirror_mode": {
    "name": "ipython",
    "version": 3
   },
   "file_extension": ".py",
   "mimetype": "text/x-python",
   "name": "python",
   "nbconvert_exporter": "python",
   "pygments_lexer": "ipython3",
   "version": "3.5.2"
  }
 },
 "nbformat": 4,
 "nbformat_minor": 1
}
